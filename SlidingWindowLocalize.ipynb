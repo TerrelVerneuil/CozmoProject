{
 "cells": [
  {
   "attachments": {},
   "cell_type": "markdown",
   "metadata": {},
   "source": [
    "# Sliding Window Localizer\n",
    "We opted against using a panorama approach. Instead, we compare the robot's latest images against 72 images gathered in the initial phase. Given a potential pose, this compare the recent image to the one of the 72 images closes to that pose. Instead of comparing these images directly, we pretend as if the images aren't perfectly aligned and thus compare several cropped offset versions of each image to the latest image."
   ]
  },
  {
   "attachments": {},
   "cell_type": "markdown",
   "metadata": {},
   "source": [
    "## Imports\n",
    "We use the following packages in our implementation.\n",
    "- `numpy` arrays allow us to compare the images and get the mean squared error\n",
    "- `cv2` allows us to read in images from files\n",
    "- `math` provides important constants and functions for our error calculations\n",
    "- `random` allows random particle generation\n",
    "- `cozmo` allows us to communicate with the robot. `cozmo.util` helps us to tell the robot some umber of degrees\n",
    "- `matplotlib.pyplot` is used to show the current beliefs of the robot in a histogram\n",
    "- `os` is used for joining file paths\n",
    "- `sys` gives us an integer maxsize as our starting point when looking at differences between images"
   ]
  },
  {
   "cell_type": "code",
   "execution_count": 1,
   "metadata": {},
   "outputs": [],
   "source": [
    "import numpy as np\n",
    "import cv2\n",
    "import math\n",
    "import random\n",
    "import cozmo\n",
    "from cozmo.util import degrees\n",
    "import matplotlib.pyplot as plt\n",
    "from PIL import Image as im \n",
    "import os\n",
    "import sys\n"
   ]
  },
  {
   "attachments": {},
   "cell_type": "markdown",
   "metadata": {},
   "source": [
    "This parameter is related to the same parameter in `ImageGathering.ipynb` corresponding to how poses should be rounded to the nearest image"
   ]
  },
  {
   "cell_type": "code",
   "execution_count": 2,
   "metadata": {},
   "outputs": [],
   "source": [
    "degree_increment = 5"
   ]
  },
  {
   "attachments": {},
   "cell_type": "markdown",
   "metadata": {},
   "source": [
    "These define the locations of the images taken in `ImageGathering.ipynb` for reference."
   ]
  },
  {
   "cell_type": "code",
   "execution_count": 3,
   "metadata": {},
   "outputs": [],
   "source": [
    "parent_dir = r\"C:\\Users\\Dressler\\Pictures\"\n",
    "path = os.path.join(parent_dir, \"resized0\")"
   ]
  },
  {
   "attachments": {},
   "cell_type": "markdown",
   "metadata": {},
   "source": [
    "Compares two images, retrieving the mean square error (MSE)"
   ]
  },
  {
   "cell_type": "code",
   "execution_count": 4,
   "metadata": {},
   "outputs": [],
   "source": [
    "def compare_images(imageA, imageB):\n",
    "  # See https://en.wikipedia.org/wiki/Mean_squared_error \n",
    "  dimensions = imageA.astype('float').shape\n",
    "  width = dimensions[1]\n",
    "  height = dimensions[0]\n",
    "  err = np.sum((imageA.astype(\"float\") - imageB.astype(\"float\")) ** 2)\n",
    "  # Dividing the values so they fit \n",
    "  err /= (width * height * width * height)\n",
    "  return err"
   ]
  },
  {
   "attachments": {},
   "cell_type": "markdown",
   "metadata": {},
   "source": [
    "These define our measurement and movement model, which help the robot to update its beliefs on further iterations."
   ]
  },
  {
   "cell_type": "code",
   "execution_count": 5,
   "metadata": {},
   "outputs": [],
   "source": [
    "sensorVariance = 0.05\n",
    "proportionalMotionVariance = 0.01\n",
    "\n",
    "def measurement_model0(particlePose):\n",
    "  # Get the source image (from initial rotation) to compare to by rounding to the nearest multiple\n",
    "  # of degree_increment\n",
    "  roundedPose = int(degree_increment * round(float(particlePose) / degree_increment)) % 360\n",
    "  # Fetch the source image from this position\n",
    "  source_image_path = os.path.join(path, 'image' + str(roundedPose) + \".jpeg\")\n",
    "  # Read in the source image and the latest\n",
    "  source_image = cv2.imread(source_image_path)\n",
    "  latest_image = cv2.imread('latestImage.jpeg')\n",
    "\n",
    "  minDiff = sys.maxsize\n",
    "  # Sliding window:\n",
    "  # We initialize the difference as the max possible ...\n",
    "  height, width = source_image.shape[0:2]\n",
    "  source_half_height = source_image.shape[0] // 3\n",
    "  latest_half_height = latest_image.shape[0] // 3\n",
    "  # Each offset represents a different sliding image pair \n",
    "  for offset in range(90, 10, -10):\n",
    "    # crop the images, getting the overlapping portions\n",
    "    overlap = width - offset\n",
    "    source_cropped = source_image[0:source_half_height, 0:overlap]\n",
    "    latest_cropped = latest_image[0:latest_half_height, offset:width]\n",
    "    # compare the cropped images\n",
    "    diff = compare_images(source_cropped, latest_cropped)\n",
    "    # update minDiff. We assume that the least image difference should be used for each of these\n",
    "    # according to the fact that even slightly offset images may report large differences\n",
    "    # even if they are very similar\n",
    "    minDiff = min(minDiff, diff)\n",
    "  \n",
    "  # reverse the roles of the images for cases where the latest image spills over the right hand\n",
    "  # side of the source image\n",
    "  for offset in range(10, 90, 10):\n",
    "    overlap = width - offset\n",
    "    source_cropped = source_image[0:source_half_height, 0:overlap]\n",
    "    latest_cropped = latest_image[0:latest_half_height, offset:width]\n",
    "    diff = compare_images(source_cropped, latest_cropped)\n",
    "    minDiff = min(minDiff, diff)\n",
    "\n",
    "  # the least difference should be used for the differences of these two images\n",
    "  diff = minDiff\n",
    "  #see Text Table 5.2, implementation of probability normal distribution\n",
    "  return (1.0 / math.sqrt(2 * math.pi * sensorVariance)) * math.exp(- (diff * diff) / (2 * sensorVariance))\n",
    "\n",
    "\n"
   ]
  },
  {
   "cell_type": "code",
   "execution_count": 6,
   "metadata": {},
   "outputs": [],
   "source": [
    "sensorVariance = 0.05\n",
    "proportionalMotionVariance = 0.01\n",
    "\n",
    "def measurement_model(particlePose):\n",
    "  # Get the source image (from initial rotation) to compare to by rounding to the nearest multiple\n",
    "  # of degree_increment\n",
    "  roundedPose = int(degree_increment * round(float(particlePose) / degree_increment)) % 360\n",
    "  # Fetch the source image from this position\n",
    "  source_image_path = os.path.join(path, 'image' + str(roundedPose) + \".jpeg\")\n",
    "  # Read in the source image and the latest\n",
    "  source_image = cv2.imread(source_image_path)\n",
    "  latest_image = cv2.imread('latestImage.jpeg')\n",
    "\n",
    "  minDiff = sys.maxsize\n",
    "  # Sliding window:\n",
    "  # We initialize the difference as the max possible ...\n",
    "  height, width = source_image.shape[0:2]\n",
    "  # Each offset represents a different sliding image pair \n",
    "  for offset in range(90, 10, -10):\n",
    "    # crop the images, getting the overlapping portions\n",
    "    overlap = width - offset\n",
    "    source_cropped = source_image[0:height, 0:overlap]\n",
    "    latest_cropped = latest_image[0:height, offset:width]\n",
    "    # compare the cropped images\n",
    "    diff = compare_images(source_cropped, latest_cropped)\n",
    "    # update minDiff. We assume that the least image difference should be used for each of these\n",
    "    # according to the fact that even slightly offset images may report large differences\n",
    "    # even if they are very similar\n",
    "    minDiff = min(minDiff, diff)\n",
    "  \n",
    "  # reverse the roles of the images for cases where the latest image spills over the right hand\n",
    "  # side of the source image\n",
    "  for offset in range(10, 90, 10):\n",
    "    overlap = width - offset\n",
    "    source_cropped = source_image[0:height, offset:width]\n",
    "    latest_cropped = latest_image[0:height, 0:overlap]\n",
    "    diff = compare_images(source_cropped, latest_cropped)\n",
    "    minDiff = min(minDiff, diff)\n",
    "\n",
    "  # the least difference should be used for the differences of these two images\n",
    "  diff = minDiff\n",
    "  #see Text Table 5.2, implementation of probability normal distribution\n",
    "  return (1.0 / math.sqrt(2 * math.pi * sensorVariance)) * math.exp(- (diff * diff) / (2 * sensorVariance))\n",
    "def motion_model(movement, current_position):\n",
    "  # making variance proportional to magnitude of motion command\n",
    "  newDeg = current_position - movement - sample_normal_distribution(abs(movement * proportionalMotionVariance)) \n",
    "  # apply modulus to make sure the newX wraps around when it passes over either edge of the panorama\n",
    "  return newDeg % 360\n",
    "def sample_normal_distribution(variance):\n",
    "  sum = 0\n",
    "  for i in range(12):\n",
    "    sum += (2.0 * random.random()) - 1.0\n",
    "  return math.sqrt(variance) * sum / 2.0"
   ]
  },
  {
   "cell_type": "code",
   "execution_count": 7,
   "metadata": {},
   "outputs": [],
   "source": [
    "def resizeCozmoImage (image_name, width, height):\n",
    "    \n",
    "    image = cv2.imread(image_name)\n",
    "    \n",
    "    res = cv2.resize(image, dsize=(width, height), interpolation=cv2.INTER_LINEAR)\n",
    "    \n",
    "    rImg = im.fromarray(res)\n",
    "    rImg.save(\"latestImage.jpeg\", \"JPEG\", resolution=10)"
   ]
  },
  {
   "attachments": {},
   "cell_type": "markdown",
   "metadata": {},
   "source": [
    "## Actual localization\n",
    "In this function, we generate 150 random particles representing different degrees of rotation. We then evolve the population by updating our beliefs through the measurement and movement models such that future generations include more likely candidates for positions. Our loop runs until any 20 degree increment includes 40% of the total probability of it member particles."
   ]
  },
  {
   "cell_type": "code",
   "execution_count": 8,
   "metadata": {},
   "outputs": [],
   "source": [
    "def localize(robot: cozmo.robot.Robot):\n",
    "    robot.say_text(\"localizing\").wait_for_completed()\n",
    "    robot.camera.image_stream_enabled = True\n",
    "\n",
    "    # generate a (random) initial population of M possible positions\n",
    "    M = 150\n",
    "    particles = [] \n",
    "    for i in range(M):\n",
    "        particles.append(random.randint(0, 360))\n",
    "\n",
    "    poses_and_weights = None\n",
    "\n",
    "    # iterate until any given 20 degree bin contains 40% of the robot's belief likelihood.\n",
    "    max_prob_bin = 0\n",
    "    est_position = None\n",
    "    while max_prob_bin < 0.5:\n",
    "        # take pictures in 10 degree increments\n",
    "        robot.turn_in_place(degrees(-10.0)).wait_for_completed()\n",
    "        latest_image = robot.world.latest_image\n",
    "        while latest_image is None:\n",
    "            latest_image = robot.world.latest_image\n",
    "        rImg = latest_image.raw_image\n",
    "        if latest_image is not None:\n",
    "            #converted = annotated.convert()\n",
    "            rImg.save(\"temp.jpeg\", \"JPEG\", resolution=10)\n",
    "            #TODO: globalize these variables\n",
    "            resizeCozmoImage (\"temp.jpeg\", 270, 180)\n",
    "    \n",
    "        # Initialize arrays to store poses, corresponding weights, and their normalized probabilities\n",
    "        poses_and_weights = np.empty([M, 3])\n",
    "        newPosition = None\n",
    "        # for each potential position\n",
    "        for p in range(M):\n",
    "            currentPosition = particles[p]\n",
    "            # update our belief about where the given pose represents, given the movement just made\n",
    "            newPosition = motion_model(degree_increment, currentPosition)\n",
    "            # Assign a weight to this position based on the image difference\n",
    "            weight = measurement_model(newPosition) \n",
    "            # store this information\n",
    "            poses_and_weights[p] = [newPosition, weight, 0]\n",
    "\n",
    "        # normalize the relative likelihoods\n",
    "        total_weight = 0.0\n",
    "        for p in range(M):\n",
    "            total_weight += poses_and_weights[p, 1]\n",
    "        # store the normalized probabilities\n",
    "        for p in range(M): \n",
    "            poses_and_weights[p,2] = poses_and_weights[p, 1] / total_weight\n",
    "        # make CDF\n",
    "        sum = 0\n",
    "        cdf = []\n",
    "        for p in range(M):\n",
    "            sum += poses_and_weights[p,2]\n",
    "            cdf.append(sum)\n",
    "        cdf[M-1] = 1.0\n",
    "\n",
    "        # Resample, according to this CDF\n",
    "        newParticles = []\n",
    "        for p in range(M):\n",
    "            p = random.random()\n",
    "            index = 0\n",
    "            while p >= cdf[index]:\n",
    "                index += 1\n",
    "            newParticles.append(poses_and_weights[index,0])\n",
    "        # Specify the new population of positions for the next iteration\n",
    "        particles = newParticles\n",
    "\n",
    "        # visualize the robot's beliefs about it's current position\n",
    "        fig, ax = plt.subplots(figsize=(10, 7))\n",
    "        ax.hist(np.array(newParticles))\n",
    "        plt.show()\n",
    "        # Sum up the belief probabilities, in 20 degree increments\n",
    "        bin_width = 20\n",
    "        prob_bins = [0 for i in range(0, 360, bin_width)]\n",
    "        for (pose, weight, prob) in poses_and_weights:\n",
    "            prob_bins[int(pose // bin_width)] += prob\n",
    "        # Print an estimated positoin\n",
    "        if max_prob_bin != 0:\n",
    "            est_position = prob_bins.index(max(prob_bins)) * bin_width\n",
    "            print(f'est: {est_position}')\n",
    "        print(f'The 20 degree bin with the higher probability has a probability of {max(prob_bins)}')\n",
    "        # update the probability in the max bin so the robot can continue\n",
    "        # if it is still unsure\n",
    "        max_prob_bin = max(prob_bins)\n",
    "    \n",
    "    # based on the position the robot thinks it is in, rotate back to home\n",
    "    robot.turn_in_place(degrees(-est_position)).wait_for_completed()\n",
    "    robot.say_text(\"I'm hooooooooome!\").wait_for_completed()"
   ]
  },
  {
   "attachments": {},
   "cell_type": "markdown",
   "metadata": {},
   "source": [
    "Random turning just for testing purposes"
   ]
  },
  {
   "cell_type": "code",
   "execution_count": 9,
   "metadata": {},
   "outputs": [],
   "source": [
    "#def rand_turn(robot: cozmo.robot.Robot):\n",
    "#    robot.turn_in_place(degrees(-random.randint(0, 360))).wait_for_completed()\n",
    "#cozmo.run_program(rand_turn)"
   ]
  },
  {
   "attachments": {},
   "cell_type": "markdown",
   "metadata": {},
   "source": [
    "Alternatively, the following file waits for the user to press enter, which allows for a manual random rotation."
   ]
  },
  {
   "cell_type": "code",
   "execution_count": 10,
   "metadata": {},
   "outputs": [
    {
     "data": {
      "text/plain": [
       "''"
      ]
     },
     "execution_count": 10,
     "metadata": {},
     "output_type": "execute_result"
    }
   ],
   "source": [
    "input(\"Press enter after randomly rotating the robot...\")"
   ]
  },
  {
   "cell_type": "code",
   "execution_count": 11,
   "metadata": {},
   "outputs": [
    {
     "name": "stderr",
     "output_type": "stream",
     "text": [
      "c:\\Users\\Dressler\\AppData\\Local\\Programs\\Python\\Python39\\lib\\site-packages\\cozmo\\event.py:488: DeprecationWarning: The loop argument is deprecated since Python 3.8, and scheduled for removal in Python 3.10.\n",
      "  return await asyncio.wait_for(f, timeout, loop=self._loop)\n",
      "2024-04-30 22:45:41,055 cozmo.general INFO     App connection established. sdk_version=1.4.10 cozmoclad_version=3.4.0 app_build_version=00003.00004.00000\n",
      "2024-04-30 22:45:41,060 cozmo.general INFO     Found robot id=1\n",
      "2024-04-30 22:45:41,077 cozmo.general INFO     Connected to Android device serial=1A071FDF600FFW\n",
      "2024-04-30 22:45:41,340 cozmo.general INFO     Robot id=1 serial=4322be95 initialized OK\n"
     ]
    },
    {
     "data": {
      "image/png": "[encoded data removed]",
      "text/plain": [
       "<Figure size 1000x700 with 1 Axes>"
      ]
     },
     "metadata": {},
     "output_type": "display_data"
    },
    {
     "name": "stdout",
     "output_type": "stream",
     "text": [
      "The 20 degree bin with the higher probability has a probability of 0.14068227890002719\n"
     ]
    },
    {
     "data": {
      "image/png": "[encoded data removed]",
      "text/plain": [
       "<Figure size 1000x700 with 1 Axes>"
      ]
     },
     "metadata": {},
     "output_type": "display_data"
    },
    {
     "name": "stdout",
     "output_type": "stream",
     "text": [
      "est: 40\n",
      "The 20 degree bin with the higher probability has a probability of 0.22841163919333413\n"
     ]
    },
    {
     "data": {
      "image/png": "[encoded data removed]",
      "text/plain": [
       "<Figure size 1000x700 with 1 Axes>"
      ]
     },
     "metadata": {},
     "output_type": "display_data"
    },
    {
     "name": "stdout",
     "output_type": "stream",
     "text": [
      "est: 20\n",
      "The 20 degree bin with the higher probability has a probability of 0.24058499685710458\n"
     ]
    },
    {
     "data": {
      "image/png": "[encoded data removed]",
      "text/plain": [
       "<Figure size 1000x700 with 1 Axes>"
      ]
     },
     "metadata": {},
     "output_type": "display_data"
    },
    {
     "name": "stdout",
     "output_type": "stream",
     "text": [
      "est: 0\n",
      "The 20 degree bin with the higher probability has a probability of 0.22194632822131855\n"
     ]
    },
    {
     "data": {
      "image/png": "[encoded data removed]",
      "text/plain": [
       "<Figure size 1000x700 with 1 Axes>"
      ]
     },
     "metadata": {},
     "output_type": "display_data"
    },
    {
     "name": "stdout",
     "output_type": "stream",
     "text": [
      "est: 20\n",
      "The 20 degree bin with the higher probability has a probability of 0.4319371998452349\n"
     ]
    },
    {
     "name": "stderr",
     "output_type": "stream",
     "text": [
      "2024-04-30 22:46:41,377 cozmo.general INFO     Shutting down connection\n",
      "2024-04-30 22:46:41,380 cozmo.general INFO     Android serial=1A071FDF600FFW disconnected.\n"
     ]
    }
   ],
   "source": [
    "cozmo.run_program(localize)"
   ]
  }
 ],
 "metadata": {
  "kernelspec": {
   "display_name": "envname",
   "language": "python",
   "name": "python3"
  },
  "language_info": {
   "codemirror_mode": {
    "name": "ipython",
    "version": 3
   },
   "file_extension": ".py",
   "mimetype": "text/x-python",
   "name": "python",
   "nbconvert_exporter": "python",
   "pygments_lexer": "ipython3",
   "version": "3.9.0"
  },
  "orig_nbformat": 4
 },
 "nbformat": 4,
 "nbformat_minor": 2
}
