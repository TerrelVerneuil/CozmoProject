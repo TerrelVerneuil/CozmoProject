{
 "cells": [
  {
   "attachments": {},
   "cell_type": "markdown",
   "metadata": {},
   "source": [
    "# Image gathering\n",
    "The robot takes pictures in 5 degree increments to familiarize itself with its environment."
   ]
  },
  {
   "cell_type": "code",
   "execution_count": 1,
   "metadata": {},
   "outputs": [],
   "source": [
    "import cozmo\n",
    "from cozmo.util import degrees\n",
    "import cv2\n",
    "import os\n",
    "from PIL import Image as im \n",
    "import numpy as np"
   ]
  },
  {
   "attachments": {},
   "cell_type": "markdown",
   "metadata": {},
   "source": [
    "Set up the folder in which to store the images."
   ]
  },
  {
   "cell_type": "code",
   "execution_count": 2,
   "metadata": {},
   "outputs": [
    {
     "name": "stdout",
     "output_type": "stream",
     "text": [
      "Directory already exists\n"
     ]
    }
   ],
   "source": [
    "# File path configuration\n",
    "parent_dir = r\"C:\\Users\\Dressler\\Pictures\"\n",
    "path = os.path.join(parent_dir, \"raw\")\n",
    "\n",
    "# Only needs to be run once\n",
    "try:\n",
    "    os.mkdir(path)\n",
    "except FileExistsError:\n",
    "    print(\"Directory already exists\")"
   ]
  },
  {
   "attachments": {},
   "cell_type": "markdown",
   "metadata": {},
   "source": [
    "Take the pictures, storing them in the specified directory"
   ]
  },
  {
   "cell_type": "code",
   "execution_count": 3,
   "metadata": {},
   "outputs": [],
   "source": [
    "def take_pictures(robot: cozmo.robot.Robot):\n",
    "  # Initial setup, generate repeatable head angle and lift height\n",
    "  robot.say_text(\"Taking pictures\").wait_for_completed()\n",
    "  move_arms = robot.set_lift_height(0)\n",
    "  move_arms.wait_for_completed()\n",
    "  set_head = robot.set_head_angle((cozmo.robot.MAX_HEAD_ANGLE) / 3, in_parallel = True)\n",
    "  set_head.wait_for_completed()\n",
    "  # Enabling Cozmo Camera\n",
    "  robot.camera.image_stream_enabled = True\n",
    "\n",
    "  deg_step = 5\n",
    "  \n",
    "  # Saves picture of what Cozmo sees every 10 degrees.\n",
    "  for d in range(0, 360, deg_step):\n",
    "    fileName = \"image\" + str(d) + \".jpeg\"\n",
    " \n",
    "    robot.turn_in_place(degrees(deg_step)).wait_for_completed()\n",
    "    \n",
    "    latest_image = robot.world.latest_image\n",
    "    # annotation seems to be important, we have had issues saving images if we don't annotate\n",
    "    #annotations_enabled=None\n",
    "    #annotated = latest_image.annotate_image()\n",
    "\n",
    "    if latest_image is not None:\n",
    "      print(\"image = %s\" % latest_image)\n",
    "      #converted = annotated.convert()\n",
    "      file_path = os.path.join(path, fileName)\n",
    "      latest_image.raw_image.save(file_path, \"JPEG\", resolution=10)"
   ]
  },
  {
   "cell_type": "markdown",
   "metadata": {},
   "source": [
    "Method to downscale the images for faster processing later on."
   ]
  },
  {
   "cell_type": "code",
   "execution_count": 4,
   "metadata": {},
   "outputs": [],
   "source": [
    "def resize_saved(width, height):\n",
    "    deg_step = 5\n",
    "    for d in range(0, 360, deg_step):\n",
    "        fileName = \"image\" + str(d) + \".jpeg\"\n",
    "        path = r\"C:\\Users\\Dressler\\Pictures\\raw\"\n",
    "        source_path = os.path.join(path, fileName)\n",
    "        \n",
    "        image = cv2.imread(source_path)\n",
    "        res = cv2.resize(image, dsize=(width, height), interpolation=cv2.INTER_LINEAR)\n",
    "    \n",
    "        rImg = im.fromarray(res)\n",
    "        #TODO: mkdir\n",
    "        rPath = r\"C:\\Users\\Dressler\\Pictures\\resized0\"\n",
    "        resized_path = os.path.join(rPath, fileName)\n",
    "        rImg.save(resized_path, \"JPEG\", resolution=10)"
   ]
  },
  {
   "cell_type": "code",
   "execution_count": 5,
   "metadata": {},
   "outputs": [
    {
     "name": "stderr",
     "output_type": "stream",
     "text": [
      "c:\\Users\\Dressler\\AppData\\Local\\Programs\\Python\\Python39\\lib\\site-packages\\cozmo\\event.py:488: DeprecationWarning: The loop argument is deprecated since Python 3.8, and scheduled for removal in Python 3.10.\n",
      "  return await asyncio.wait_for(f, timeout, loop=self._loop)\n",
      "2024-04-30 22:43:26,602 cozmo.general INFO     App connection established. sdk_version=1.4.10 cozmoclad_version=3.4.0 app_build_version=00003.00004.00000\n",
      "2024-04-30 22:43:26,607 cozmo.general INFO     Found robot id=1\n",
      "2024-04-30 22:43:26,623 cozmo.general INFO     Connected to Android device serial=1A071FDF600FFW\n",
      "2024-04-30 22:43:26,900 cozmo.general INFO     Robot id=1 serial=4322be95 initialized OK\n"
     ]
    },
    {
     "name": "stdout",
     "output_type": "stream",
     "text": [
      "image = <cozmo.world.CameraImage object at 0x000001DE55025880>\n",
      "image = <cozmo.world.CameraImage object at 0x000001DE55025CA0>\n",
      "image = <cozmo.world.CameraImage object at 0x000001DE55025C40>\n",
      "image = <cozmo.world.CameraImage object at 0x000001DE55049400>\n",
      "image = <cozmo.world.CameraImage object at 0x000001DE44A8FF40>\n",
      "image = <cozmo.world.CameraImage object at 0x000001DE5505D310>\n",
      "image = <cozmo.world.CameraImage object at 0x000001DE55049DC0>\n",
      "image = <cozmo.world.CameraImage object at 0x000001DE5501EFA0>\n",
      "image = <cozmo.world.CameraImage object at 0x000001DE551B5820>\n",
      "image = <cozmo.world.CameraImage object at 0x000001DE44A8FF40>\n",
      "image = <cozmo.world.CameraImage object at 0x000001DE54FD5A00>\n",
      "image = <cozmo.world.CameraImage object at 0x000001DE5509B6D0>\n",
      "image = <cozmo.world.CameraImage object at 0x000001DE550C5520>\n",
      "image = <cozmo.world.CameraImage object at 0x000001DE550255E0>\n",
      "image = <cozmo.world.CameraImage object at 0x000001DE551B5FA0>\n",
      "image = <cozmo.world.CameraImage object at 0x000001DE5509B9A0>\n",
      "image = <cozmo.world.CameraImage object at 0x000001DE55053D60>\n",
      "image = <cozmo.world.CameraImage object at 0x000001DE55053460>\n",
      "image = <cozmo.world.CameraImage object at 0x000001DE551B5520>\n",
      "image = <cozmo.world.CameraImage object at 0x000001DE550537F0>\n",
      "image = <cozmo.world.CameraImage object at 0x000001DE55067550>\n",
      "image = <cozmo.world.CameraImage object at 0x000001DE5505DDF0>\n",
      "image = <cozmo.world.CameraImage object at 0x000001DE551BFF70>\n",
      "image = <cozmo.world.CameraImage object at 0x000001DE550672E0>\n",
      "image = <cozmo.world.CameraImage object at 0x000001DE551BF040>\n",
      "image = <cozmo.world.CameraImage object at 0x000001DE55070070>\n",
      "image = <cozmo.world.CameraImage object at 0x000001DE55070FD0>\n",
      "image = <cozmo.world.CameraImage object at 0x000001DE550C5430>\n",
      "image = <cozmo.world.CameraImage object at 0x000001DE5509B6D0>\n",
      "image = <cozmo.world.CameraImage object at 0x000001DE551BFD00>\n",
      "image = <cozmo.world.CameraImage object at 0x000001DE55053B50>\n",
      "image = <cozmo.world.CameraImage object at 0x000001DE55025CD0>\n",
      "image = <cozmo.world.CameraImage object at 0x000001DE55025880>\n",
      "image = <cozmo.world.CameraImage object at 0x000001DE5509B070>\n",
      "image = <cozmo.world.CameraImage object at 0x000001DE55053B80>\n",
      "image = <cozmo.world.CameraImage object at 0x000001DE55025C40>\n",
      "image = <cozmo.world.CameraImage object at 0x000001DE550F8670>\n",
      "image = <cozmo.world.CameraImage object at 0x000001DE550FB640>\n",
      "image = <cozmo.world.CameraImage object at 0x000001DE550FB130>\n",
      "image = <cozmo.world.CameraImage object at 0x000001DE550FBC10>\n",
      "image = <cozmo.world.CameraImage object at 0x000001DE5509B8B0>\n",
      "image = <cozmo.world.CameraImage object at 0x000001DE55025C40>\n",
      "image = <cozmo.world.CameraImage object at 0x000001DE551BFD60>\n",
      "image = <cozmo.world.CameraImage object at 0x000001DE55049F40>\n",
      "image = <cozmo.world.CameraImage object at 0x000001DE551B5640>\n",
      "image = <cozmo.world.CameraImage object at 0x000001DE550F6BE0>\n",
      "image = <cozmo.world.CameraImage object at 0x000001DE55067640>\n",
      "image = <cozmo.world.CameraImage object at 0x000001DE5509B550>\n",
      "image = <cozmo.world.CameraImage object at 0x000001DE5509B5E0>\n",
      "image = <cozmo.world.CameraImage object at 0x000001DE550671C0>\n",
      "image = <cozmo.world.CameraImage object at 0x000001DE55070FA0>\n",
      "image = <cozmo.world.CameraImage object at 0x000001DE55067730>\n",
      "image = <cozmo.world.CameraImage object at 0x000001DE550ED610>\n",
      "image = <cozmo.world.CameraImage object at 0x000001DE551B5FA0>\n",
      "image = <cozmo.world.CameraImage object at 0x000001DE5509B370>\n",
      "image = <cozmo.world.CameraImage object at 0x000001DE550F6880>\n",
      "image = <cozmo.world.CameraImage object at 0x000001DE550F86D0>\n",
      "image = <cozmo.world.CameraImage object at 0x000001DE550F84F0>\n",
      "image = <cozmo.world.CameraImage object at 0x000001DE55196F70>\n",
      "image = <cozmo.world.CameraImage object at 0x000001DE551BF730>\n",
      "image = <cozmo.world.CameraImage object at 0x000001DE55049D90>\n",
      "image = <cozmo.world.CameraImage object at 0x000001DE550F67C0>\n",
      "image = <cozmo.world.CameraImage object at 0x000001DE55067B50>\n",
      "image = <cozmo.world.CameraImage object at 0x000001DE550F8370>\n",
      "image = <cozmo.world.CameraImage object at 0x000001DE55053130>\n",
      "image = <cozmo.world.CameraImage object at 0x000001DE551B5FA0>\n",
      "image = <cozmo.world.CameraImage object at 0x000001DE550C50A0>\n",
      "image = <cozmo.world.CameraImage object at 0x000001DE550F6FA0>\n",
      "image = <cozmo.world.CameraImage object at 0x000001DE550ED040>\n",
      "image = <cozmo.world.CameraImage object at 0x000001DE550F8370>\n",
      "image = <cozmo.world.CameraImage object at 0x000001DE550F8790>\n"
     ]
    },
    {
     "name": "stderr",
     "output_type": "stream",
     "text": [
      "2024-04-30 22:44:23,683 cozmo.general INFO     Shutting down connection\n",
      "2024-04-30 22:44:23,689 cozmo.general INFO     Android serial=1A071FDF600FFW disconnected.\n"
     ]
    },
    {
     "name": "stdout",
     "output_type": "stream",
     "text": [
      "image = <cozmo.world.CameraImage object at 0x000001DE44A8FF40>\n"
     ]
    }
   ],
   "source": [
    "cozmo.run_program(take_pictures)\n",
    "resize_saved(270, 180)"
   ]
  }
 ],
 "metadata": {
  "kernelspec": {
   "display_name": "envname",
   "language": "python",
   "name": "python3"
  },
  "language_info": {
   "codemirror_mode": {
    "name": "ipython",
    "version": 3
   },
   "file_extension": ".py",
   "mimetype": "text/x-python",
   "name": "python",
   "nbconvert_exporter": "python",
   "pygments_lexer": "ipython3",
   "version": "3.9.0"
  },
  "orig_nbformat": 4
 },
 "nbformat": 4,
 "nbformat_minor": 2
}
