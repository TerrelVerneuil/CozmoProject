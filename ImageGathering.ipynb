{
 "cells": [
  {
   "attachments": {},
   "cell_type": "markdown",
   "metadata": {},
   "source": [
    "# Image gathering\n",
    "The robot takes pictures in 5 degree increments to familiarize itself with its environment."
   ]
  },
  {
   "cell_type": "code",
   "execution_count": 9,
   "metadata": {},
   "outputs": [],
   "source": [
    "import cozmo\n",
    "from cozmo.util import degrees\n",
    "import cv2\n",
    "import os\n",
    "from PIL import Image as im "
   ]
  },
  {
   "attachments": {},
   "cell_type": "markdown",
   "metadata": {},
   "source": [
    "Set up the folder in which to store the images."
   ]
  },
  {
   "cell_type": "code",
   "execution_count": 10,
   "metadata": {},
   "outputs": [
    {
     "name": "stdout",
     "output_type": "stream",
     "text": [
      "Directory already exists\n"
     ]
    }
   ],
   "source": [
    "# File path configuration\n",
    "parent_dir = r\"C:\\Users\\Dressler\\Pictures\"\n",
    "path = os.path.join(parent_dir, \"cozmo\")\n",
    "\n",
    "# Only needs to be run once\n",
    "try:\n",
    "    os.mkdir(path)\n",
    "except FileExistsError:\n",
    "    print(\"Directory already exists\")"
   ]
  },
  {
   "cell_type": "markdown",
   "metadata": {},
   "source": [
    "Method to rescale image. Used to downscale the images for faster processing later on."
   ]
  },
  {
   "cell_type": "code",
   "execution_count": null,
   "metadata": {},
   "outputs": [],
   "source": [
    "def resize_image (image, width, height):\n",
    "    #convert image to float array\n",
    "    img_array = image.astype(\"float\")\n",
    "    #use cv2 to resize array\n",
    "    #tested multiple types of interpolation, INTER_LINEAR seems to be best, but feel free to test\n",
    "    resized_array = cv2.resize(img_array, dsize=(width, height), interpolation=cv2.INTER_LINEAR)\n",
    "    #turn array back to image and return \n",
    "    resized_image = im.fromarray(resized_array)\n",
    "    return resized_image"
   ]
  },
  {
   "attachments": {},
   "cell_type": "markdown",
   "metadata": {},
   "source": [
    "Take the pictures, storing them in the specified directory"
   ]
  },
  {
   "cell_type": "code",
   "execution_count": 11,
   "metadata": {},
   "outputs": [],
   "source": [
    "def take_pictures(robot: cozmo.robot.Robot):\n",
    "  # Initial setup, generate repeatable head angle and lift height\n",
    "  robot.say_text(\"Taking pictures\").wait_for_completed()\n",
    "  move_arms = robot.set_lift_height(0)\n",
    "  move_arms.wait_for_completed()\n",
    "  set_head = robot.set_head_angle((cozmo.robot.MAX_HEAD_ANGLE) / 3, in_parallel = True)\n",
    "  set_head.wait_for_completed()\n",
    "  # Enabling Cozmo Camera\n",
    "  robot.camera.image_stream_enabled = True\n",
    "\n",
    "  deg_step = 5\n",
    "  \n",
    "  # Saves picture of what Cozmo sees every 10 degrees.\n",
    "  for d in range(0, 360, deg_step):\n",
    "    fileName = \"image\" + str(d) + \".jpeg\"\n",
    " \n",
    "    robot.turn_in_place(degrees(deg_step)).wait_for_completed()\n",
    "    \n",
    "    latest_image = robot.world.latest_image\n",
    "    # annotation seems to be important, we have had issues saving images if we don't annotate\n",
    "    annotated = latest_image.annotate_image()\n",
    "\n",
    "    if latest_image is not None:\n",
    "      print(\"image = %s\" % latest_image)\n",
    "      converted = annotated.convert()\n",
    "      file_path = os.path.join(path, fileName)\n",
    "      resized = resize_image(converted, 160, 120)   #image is resized before saving\n",
    "      resized.save(file_path, \"JPEG\", resolution=10)"
   ]
  },
  {
   "cell_type": "code",
   "execution_count": null,
   "metadata": {},
   "outputs": [],
   "source": [
    "cozmo.run_program(take_pictures)"
   ]
  }
 ],
 "metadata": {
  "kernelspec": {
   "display_name": "envname",
   "language": "python",
   "name": "python3"
  },
  "language_info": {
   "codemirror_mode": {
    "name": "ipython",
    "version": 3
   },
   "file_extension": ".py",
   "mimetype": "text/x-python",
   "name": "python",
   "nbconvert_exporter": "python",
   "pygments_lexer": "ipython3",
   "version": "3.9.0"
  },
  "orig_nbformat": 4
 },
 "nbformat": 4,
 "nbformat_minor": 2
}
