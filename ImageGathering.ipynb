{
 "cells": [
  {
   "attachments": {},
   "cell_type": "markdown",
   "metadata": {},
   "source": [
    "# Image gathering\n",
    "The robot takes pictures in 5 degree increments to familiarize itself with its environment."
   ]
  },
  {
   "cell_type": "code",
   "execution_count": null,
   "metadata": {},
   "outputs": [],
   "source": [
    "import cozmo\n",
    "from cozmo.util import degrees\n",
    "import cv2\n",
    "import os\n",
    "from PIL import Image as im \n",
    "import numpy as np"
   ]
  },
  {
   "attachments": {},
   "cell_type": "markdown",
   "metadata": {},
   "source": [
    "Set up the folder in which to store the raw images."
   ]
  },
  {
   "cell_type": "code",
   "execution_count": null,
   "metadata": {},
   "outputs": [],
   "source": [
    "# File path configuration\n",
    "parent_dir = r\"C:\\Users\\Dressler\\Pictures\"\n",
    "raw_path = os.path.join(parent_dir, \"cozmo_raw\")\n",
    "\n",
    "# Only needs to be run once\n",
    "try:\n",
    "    os.mkdir(raw_path)\n",
    "except FileExistsError:\n",
    "    print(\"Directory already exists\")"
   ]
  },
  {
   "cell_type": "markdown",
   "metadata": {},
   "source": [
    "Set up the folder in which to store the resized images"
   ]
  },
  {
   "cell_type": "code",
   "execution_count": null,
   "metadata": {},
   "outputs": [],
   "source": [
    "# File path configuration\n",
    "resized_path = os.path.join(parent_dir, \"cozmo_resized\")\n",
    "\n",
    "# Only needs to be run once\n",
    "try:\n",
    "    os.mkdir(resized_path)\n",
    "except FileExistsError:\n",
    "    print(\"Directory already exists\")"
   ]
  },
  {
   "attachments": {},
   "cell_type": "markdown",
   "metadata": {},
   "source": [
    "Take the pictures, storing them in the specified directory"
   ]
  },
  {
   "cell_type": "code",
   "execution_count": null,
   "metadata": {},
   "outputs": [],
   "source": [
    "def take_pictures(robot: cozmo.robot.Robot):\n",
    "  # Initial setup, generate repeatable head angle and lift height\n",
    "  robot.say_text(\"Taking pictures\").wait_for_completed()\n",
    "  move_arms = robot.set_lift_height(0)\n",
    "  move_arms.wait_for_completed()\n",
    "  set_head = robot.set_head_angle((cozmo.robot.MAX_HEAD_ANGLE) / 3, in_parallel = True)\n",
    "  set_head.wait_for_completed()\n",
    "  # Enabling Cozmo Camera\n",
    "  robot.camera.image_stream_enabled = True\n",
    "\n",
    "  deg_step = 5\n",
    "  \n",
    "  # Saves picture of what Cozmo sees every 10 degrees.\n",
    "  for d in range(0, 360, deg_step):\n",
    "    fileName = \"image\" + str(d) + \".jpeg\"\n",
    " \n",
    "    robot.turn_in_place(degrees(deg_step)).wait_for_completed()\n",
    "    \n",
    "    latest_image = robot.world.latest_image\n",
    "\n",
    "    if latest_image is not None:\n",
    "      print(\"image = %s\" % latest_image)\n",
    "      file_path = os.path.join(raw_path, fileName)\n",
    "      latest_image.raw_image.save(file_path, \"JPEG\", resolution=10)"
   ]
  },
  {
   "cell_type": "markdown",
   "metadata": {},
   "source": [
    "Method to downscale the images for faster processing later on."
   ]
  },
  {
   "cell_type": "code",
   "execution_count": null,
   "metadata": {},
   "outputs": [],
   "source": [
    "def resize_saved(width, height):\n",
    "    deg_step = 5\n",
    "    for d in range(0, 360, deg_step):\n",
    "        fileName = \"image\" + str(d) + \".jpeg\"\n",
    "        path = r\"C:\\Users\\Dressler\\Pictures\\cozmo_raw\"\n",
    "        source_path = os.path.join(path, fileName)\n",
    "        \n",
    "        image = cv2.imread(source_path)\n",
    "        res = cv2.resize(image, dsize=(width, height), interpolation=cv2.INTER_LINEAR)\n",
    "    \n",
    "        rImg = im.fromarray(res)\n",
    "        rPath = r\"C:\\Users\\Dressler\\Pictures\\cozmo_resized\"\n",
    "        resized_path = os.path.join(rPath, fileName)\n",
    "        rImg.save(resized_path, \"JPEG\", resolution=10)"
   ]
  },
  {
   "cell_type": "code",
   "execution_count": null,
   "metadata": {},
   "outputs": [],
   "source": [
    "cozmo.run_program(take_pictures)\n",
    "#the raw pictures are 360 X 240\n",
    "#this is a .67% downscale\n",
    "resize_saved(240, 180)"
   ]
  }
 ],
 "metadata": {
  "kernelspec": {
   "display_name": "envname",
   "language": "python",
   "name": "python3"
  },
  "language_info": {
   "codemirror_mode": {
    "name": "ipython",
    "version": 3
   },
   "file_extension": ".py",
   "mimetype": "text/x-python",
   "name": "python",
   "nbconvert_exporter": "python",
   "pygments_lexer": "ipython3",
   "version": "3.9.0"
  },
  "orig_nbformat": 4
 },
 "nbformat": 4,
 "nbformat_minor": 2
}
